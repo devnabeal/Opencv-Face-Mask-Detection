{
 "cells": [
  {
   "cell_type": "code",
   "execution_count": 1,
   "metadata": {},
   "outputs": [],
   "source": [
    "#Ertuğrul Kuşva\n",
    "import cv2\n",
    "import time\n",
    "import os"
   ]
  },
  {
   "cell_type": "code",
   "execution_count": 2,
   "metadata": {},
   "outputs": [],
   "source": [
    "CONFIDENCE_THRESHOLD = 0.2\n",
    "NMS_THRESHOLD = 0.4 #Sonuçlara filtre uygulayarak birden fazla kutu olarak görünmesini engeller.\n",
    "folder=\"testPhotos/\"#bu klasörün içindeki fotoğraflar test edilir.\n",
    "COLORS = [(0, 255, 255), (255, 255, 0), (0, 255, 0), (255, 0, 0)]# Tahmin kutularının rengi\n",
    "\n",
    "class_names = []\n",
    "with open(\"config/coco.names\", \"r\") as f:\n",
    "    class_names = [cname.strip() for cname in f.readlines()]"
   ]
  },
  {
   "cell_type": "code",
   "execution_count": 3,
   "metadata": {},
   "outputs": [
    {
     "name": "stdout",
     "output_type": "stream",
     "text": [
      "Using GPU\n"
     ]
    }
   ],
   "source": [
    "net = cv2.dnn.readNet(\"config/yolov3-tiny-prn_final.weights\", \"config/yolov3-tiny-prn.cfg\")\n",
    "try:\n",
    "    net.setPreferableBackend(cv2.dnn.DNN_BACKEND_CUDA)#GPU kullanımını sağlayarak tahmin süresini kısaltır.\n",
    "    #net.setPreferableTarget(cv2.dnn.DNN_TARGET_CUDA_FP16)\n",
    "    net.setPreferableTarget(cv2.dnn.DNN_TARGET_CUDA)\n",
    "    print(\"Using GPU\")\n",
    "except print(0):\n",
    "    print(\"Using CPU\")"
   ]
  },
  {
   "cell_type": "code",
   "execution_count": 4,
   "metadata": {},
   "outputs": [
    {
     "name": "stdout",
     "output_type": "stream",
     "text": [
      "1  Maske tespit ediliyor.. 102.jpg\n",
      "2  Maske tespit ediliyor.. 104.jpg\n",
      "3  Maske tespit ediliyor.. 119.jpg\n",
      "4  Maske tespit ediliyor.. 124.jpg\n",
      "5  Maske tespit ediliyor.. 153.jpg\n",
      "6  Maske tespit ediliyor.. 167.jpg\n",
      "7  Maske tespit ediliyor.. 193.jpg\n",
      "8  Maske tespit ediliyor.. 244.jpg\n",
      "9  Maske tespit ediliyor.. 269.jpg\n",
      "10  Maske tespit ediliyor.. 277.jpg\n",
      "11  Maske tespit ediliyor.. 281.jpg\n",
      "12  Maske tespit ediliyor.. 334.jpg\n",
      "13  Maske tespit ediliyor.. 351.jpg\n",
      "14  Maske tespit ediliyor.. 59.jpg\n",
      "15  Maske tespit ediliyor.. 72.jpg\n",
      "16  Maske tespit ediliyor.. a1.jpg\n",
      "17  Maske tespit ediliyor.. a2.jpg\n",
      "18  Maske tespit ediliyor.. A238.jpg\n",
      "19  Maske tespit ediliyor.. A258.jpg\n",
      "20  Maske tespit ediliyor.. A323.jpg\n",
      "21  Maske tespit ediliyor.. A351.jpg\n",
      "22  Maske tespit ediliyor.. A356.jpg\n",
      "23  Maske tespit ediliyor.. a4.jpg\n",
      "24  Maske tespit ediliyor.. A441.jpg\n",
      "25  Maske tespit ediliyor.. a5.jpg\n",
      "26  Maske tespit ediliyor.. A555.jpg\n",
      "27  Maske tespit ediliyor.. A557.jpg\n",
      "28  Maske tespit ediliyor.. A559.jpg\n",
      "29  Maske tespit ediliyor.. A562.jpg\n",
      "30  Maske tespit ediliyor.. A565.jpg\n",
      "31  Maske tespit ediliyor.. a7.jpg\n",
      "32  Maske tespit ediliyor.. A85.jpg\n",
      "33  Maske tespit ediliyor.. A90.jpg\n",
      "34  Maske tespit ediliyor.. deneme1.jpg\n",
      "35  Maske tespit ediliyor.. deneme2.jpg\n",
      "36  Maske tespit ediliyor.. deneme3.jpg\n",
      "37  Maske tespit ediliyor.. deneme4.jpg\n"
     ]
    }
   ],
   "source": [
    "model = cv2.dnn_DetectionModel(net)\n",
    "model.setInputParams(size=(608, 608), scale=1/255, swapRB=True)#fotoğraf çözünürlük ayarı\n",
    "say=0\n",
    "for filename in os.listdir(folder):\n",
    "    say+=1\n",
    "    frame = cv2.imread(os.path.join(folder,filename))\n",
    "    \n",
    "    start = time.time()\n",
    "    classes, scores, boxes = model.detect(frame, CONFIDENCE_THRESHOLD, NMS_THRESHOLD)\n",
    "    end = time.time()\n",
    "\n",
    "    start_drawing = time.time()\n",
    "    for (classid, score, box) in zip(classes, scores, boxes):\n",
    "        color = COLORS[int(classid) % len(COLORS)]\n",
    "        label = \"%s : %f\" % (class_names[classid[0]], score)\n",
    "        cv2.rectangle(frame, box, color, 1)\n",
    "        cv2.putText(frame, label, (box[0], box[1] - 10), cv2.FONT_HERSHEY_SIMPLEX, 0.5, color,1)\n",
    "    end_drawing = time.time()\n",
    "    \n",
    "    fps_label = \"FPS: %.2f (tespit suresi %.2fms)\" % (1 / (end - start), (end_drawing - start_drawing) * 1000)\n",
    "    cv2.putText(frame, fps_label, (0, 25), cv2.FONT_HERSHEY_SIMPLEX, 1, (0, 255, 0), 1)\n",
    "    cv2.imwrite(\"predictResultTiny/\"+filename, frame)#tahmin sonuçlarını bu dizine yazdırır. \n",
    "    print(say,\" Maske tespit ediliyor..\",filename)\n",
    "    #cv2.imshow(\"detections\", frame) # ekranda goestermek için\n",
    "    #cv2.waitKey(0) # bir tuşa basmayı bekle"
   ]
  },
  {
   "cell_type": "code",
   "execution_count": null,
   "metadata": {},
   "outputs": [],
   "source": []
  }
 ],
 "metadata": {
  "kernelspec": {
   "display_name": "Python 3",
   "language": "python",
   "name": "python3"
  },
  "language_info": {
   "codemirror_mode": {
    "name": "ipython",
    "version": 3
   },
   "file_extension": ".py",
   "mimetype": "text/x-python",
   "name": "python",
   "nbconvert_exporter": "python",
   "pygments_lexer": "ipython3",
   "version": "3.8.6rc1"
  }
 },
 "nbformat": 4,
 "nbformat_minor": 4
}
