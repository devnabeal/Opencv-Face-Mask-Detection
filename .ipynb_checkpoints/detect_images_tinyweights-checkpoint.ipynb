{
 "cells": [
  {
   "cell_type": "code",
   "execution_count": null,
   "metadata": {},
   "outputs": [],
   "source": [
    "#Ertuğrul Kuşva\n",
    "import cv2\n",
    "import time\n",
    "import os"
   ]
  },
  {
   "cell_type": "code",
   "execution_count": null,
   "metadata": {},
   "outputs": [],
   "source": [
    "CONFIDENCE_THRESHOLD = 0.2\n",
    "NMS_THRESHOLD = 0.4 #Sonuçlara filtre uygulayarak birden fazla kutu olarak görünmesini engeller.\n",
    "folder=\"testPhotos/\"#bu klasörün içindeki fotoğraflar test edilir.\n",
    "COLORS = [(0, 255, 255), (255, 255, 0), (0, 255, 0), (255, 0, 0)]# Tahmin kutularının rengi\n",
    "\n",
    "class_names = []\n",
    "with open(\"config/coco.names\", \"r\") as f:\n",
    "    class_names = [cname.strip() for cname in f.readlines()]"
   ]
  },
  {
   "cell_type": "code",
   "execution_count": null,
   "metadata": {},
   "outputs": [],
   "source": [
    "net = cv2.dnn.readNet(\"backup/yolov3-tiny-prn_final.weights\", \"config/yolov3-tiny-prn.cfg\")\n",
    "try:\n",
    "    net.setPreferableBackend(cv2.dnn.DNN_BACKEND_CUDA)#GPU kullanımını sağlayarak tahmin süresini kısaltır.\n",
    "    #net.setPreferableTarget(cv2.dnn.DNN_TARGET_CUDA_FP16)\n",
    "    net.setPreferableTarget(cv2.dnn.DNN_TARGET_CUDA)\n",
    "    print(\"Using GPU\")\n",
    "except print(0):\n",
    "    print(\"Using CPU\")"
   ]
  },
  {
   "cell_type": "code",
   "execution_count": null,
   "metadata": {},
   "outputs": [],
   "source": [
    "model = cv2.dnn_DetectionModel(net)\n",
    "model.setInputParams(size=(608, 608), scale=1/255, swapRB=True)#fotoğraf çözünürlük ayarı\n",
    "say=0\n",
    "for filename in os.listdir(folder):\n",
    "    say+=1\n",
    "    frame = cv2.imread(os.path.join(folder,filename))\n",
    "    \n",
    "    start = time.time()\n",
    "    classes, scores, boxes = model.detect(frame, CONFIDENCE_THRESHOLD, NMS_THRESHOLD)\n",
    "    end = time.time()\n",
    "\n",
    "    start_drawing = time.time()\n",
    "    for (classid, score, box) in zip(classes, scores, boxes):\n",
    "        color = COLORS[int(classid) % len(COLORS)]\n",
    "        label = \"%s : %f\" % (class_names[classid[0]], score)\n",
    "        cv2.rectangle(frame, box, color, 1)\n",
    "        cv2.putText(frame, label, (box[0], box[1] - 10), cv2.FONT_HERSHEY_SIMPLEX, 0.5, color,1)\n",
    "    end_drawing = time.time()\n",
    "    \n",
    "    fps_label = \"FPS: %.2f (tespit suresi %.2fms)\" % (1 / (end - start), (end_drawing - start_drawing) * 1000)\n",
    "    cv2.putText(frame, fps_label, (0, 25), cv2.FONT_HERSHEY_SIMPLEX, 1, (0, 255, 0), 1)\n",
    "    cv2.imwrite(\"predictResultTiny/\"+filename, frame)#tahmin sonuçlarını bu dizine yazdırır. \n",
    "    print(say,\" Maske tespit ediliyor..\",filename)\n",
    "    #cv2.imshow(\"detections\", frame) # ekranda goestermek için\n",
    "    #cv2.waitKey(0) # bir tuşa basmayı bekle"
   ]
  }
 ],
 "metadata": {
  "kernelspec": {
   "display_name": "Python 3",
   "language": "python",
   "name": "python3"
  },
  "language_info": {
   "codemirror_mode": {
    "name": "ipython",
    "version": 3
   },
   "file_extension": ".py",
   "mimetype": "text/x-python",
   "name": "python",
   "nbconvert_exporter": "python",
   "pygments_lexer": "ipython3",
   "version": "3.8.6rc1"
  }
 },
 "nbformat": 4,
 "nbformat_minor": 4
}
